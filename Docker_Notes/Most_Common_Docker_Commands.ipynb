{
 "cells": [
  {
   "cell_type": "markdown",
   "metadata": {},
   "source": [
    "\"\"\" MY MOST COMMON DOCKER COMMANDS \"\"\"\n",
    "\n",
    "Last week I posted about what I thought were the SUPER tools for AI engineers to learn.\n",
    "\n",
    "There were two mystery tools that I mentioned. \n",
    "\n",
    "One of those mystery tools is Docker.\n",
    "\n",
    "If you have an AI or Data Science application that you need to server up to the world, serving it through a Docker container is the way to go in my opinion.\n",
    "\n",
    "I am RELIABLY serving multiple APIs for DS and AI, multiple web servers, and multiple backend processes from Docker containers. \n",
    "\n",
    "I couldn't imagine my AI / DS dev life without it now.\n",
    "\n",
    "I '''HOPE''' this set of commands comes in as handy for you as they have for me.\n",
    "\n",
    "You will ONLY need to do a search and replace on NAME and docker_hub_username to use these for each new project.\n",
    "\n",
    "Until next time,\n",
    "\n",
    "\n",
    "https://www.linkedin.com/posts/thomives_thom-ives-most-common-docker-commands-activity-7162886076536139776-0DI7/"
   ]
  }
 ],
 "metadata": {
  "language_info": {
   "name": "python"
  }
 },
 "nbformat": 4,
 "nbformat_minor": 2
}
