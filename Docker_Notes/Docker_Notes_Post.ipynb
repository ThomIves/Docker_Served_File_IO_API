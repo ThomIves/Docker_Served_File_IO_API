{
 "cells": [
  {
   "cell_type": "markdown",
   "metadata": {},
   "source": [
    "![Most Common Docker Commands](Most_Useful_Docker_Commands.png)"
   ]
  },
  {
   "cell_type": "markdown",
   "metadata": {},
   "source": [
    "> by Thom Ives, PhD"
   ]
  },
  {
   "cell_type": "markdown",
   "metadata": {},
   "source": [
    "## Consolidated Docker Commands Master Procedure"
   ]
  },
  {
   "cell_type": "markdown",
   "metadata": {},
   "source": [
    "**NOTE:** I use NAME_i for the image name, and NAME for the container name. This way I can QUICKLY edit this file for new image / container pairs."
   ]
  },
  {
   "cell_type": "markdown",
   "metadata": {},
   "source": [
    "* To start clean on your local machine\n",
    "    * `sudo docker image rm NAME_i:latest`\n",
    "    * `sudo docker image rm docker_hub_username/NAME_i:latest`"
   ]
  },
  {
   "cell_type": "markdown",
   "metadata": {},
   "source": [
    "* Build the image from your latest Dockerfile\n",
    "    * `sudo docker image build -t NAME_i:latest .`"
   ]
  },
  {
   "cell_type": "markdown",
   "metadata": {},
   "source": [
    "* Give the image a tag that works for Docker Hub\n",
    "    * `sudo docker tag NAME_i:latest docker_hub_username/NAME_i:latest`"
   ]
  },
  {
   "cell_type": "markdown",
   "metadata": {},
   "source": [
    "* Log into Docker Hub IF necessary\n",
    "    * `sudo docker login`"
   ]
  },
  {
   "cell_type": "markdown",
   "metadata": {},
   "source": [
    "* Push the image up to Docker Hub\n",
    "    * `sudo docker push docker_hub_username/NAME_i:latest`"
   ]
  },
  {
   "cell_type": "markdown",
   "metadata": {},
   "source": [
    "* Go to the server that needs the image and pull the image down to it from Docker Hub\n",
    "    * `sudo docker pull docker_hub_username/NAME_i:latest`"
   ]
  },
  {
   "cell_type": "markdown",
   "metadata": {},
   "source": [
    "* Run the image with the necessary flags\n",
    "    * `sudo docker container run --name NAME --restart unless-stopped -p host_port_number:container_port_number -v /host/directory/path:/container/directory/path -d docker_hub_username/NAME_i`"
   ]
  },
  {
   "cell_type": "markdown",
   "metadata": {},
   "source": [
    "* Stop the container and remove it when you need to rerun a new image\n",
    "    * `sudo docker container stop NAME`\n",
    "    * `sudo docker container rm NAME`"
   ]
  },
  {
   "cell_type": "markdown",
   "metadata": {},
   "source": [
    "* Rarely used\n",
    "    * `sudo docker container restart NAME`"
   ]
  },
  {
   "cell_type": "markdown",
   "metadata": {},
   "source": [
    "* [How to Interact with a Running Container](https://stackoverflow.com/questions/63663307/start-docker-container-interactively)\n",
    "    * https://stackoverflow.com/questions/63663307/start-docker-container-interactively\n",
    "    * `sudo docker exec -it NAME /bin/bash`"
   ]
  },
  {
   "cell_type": "markdown",
   "metadata": {},
   "source": [
    "* [How to Detach from your Interactive Session with a Running Container](https://stackoverflow.com/questions/25267372/correct-way-to-detach-from-a-container-without-stopping-it)\n",
    "    * https://stackoverflow.com/questions/25267372/correct-way-to-detach-from-a-container-without-stopping-it\n",
    "    * use CTRL-p, CTRL-q to exit the bash of the container\n"
   ]
  },
  {
   "cell_type": "markdown",
   "metadata": {},
   "source": [
    "* [How to Install New Things in Container and Actually Save Them!](https://stackoverflow.com/questions/63027514/install-package-in-running-docker-container)\n",
    "    * https://stackoverflow.com/questions/63027514/install-package-in-running-docker-container"
   ]
  },
  {
   "cell_type": "markdown",
   "metadata": {},
   "source": [
    "* [The IP address of the Host of a Docker Container IS 172.17.0.1](https://stackoverflow.com/questions/22944631/how-to-get-the-ip-address-of-the-docker-host-from-inside-a-docker-container)\n",
    "    * https://stackoverflow.com/questions/22944631/how-to-get-the-ip-address-of-the-docker-host-from-inside-a-docker-container"
   ]
  },
  {
   "cell_type": "markdown",
   "metadata": {},
   "source": [
    "## Another Format for Docker Commands"
   ]
  },
  {
   "cell_type": "markdown",
   "metadata": {},
   "source": [
    "##### Naming Tip from Thom\n",
    "For the commands below, I like to name the image closely to the same name as the container.\n",
    "However, I choose a container name first, and then name the image `container_name_i`.\n",
    "So, my image name would usually be `container_name_i` with a tag of latest = `container_name_i:latest`.\n",
    "Then, my container name is `container_name`.\n",
    "Also, I can copy and paste the commands below to a new directory for a new Docker image / container project, and then just replace the `container_name` for these commands below, and then I have all my commands ready for copy and paste - voila!\n",
    "\n",
    "##### To start clean on your local machine\n",
    "`sudo docker image rm image_name:tag`\n",
    "`sudo docker image rm docker_hub_username/image_name:tag`\n",
    "\n",
    "##### Build the image from your latest Dockerfile\n",
    "`sudo docker image build -t image_name:tag .`\n",
    "\n",
    "##### Give the image a tag that works for Docker Hub\n",
    "`sudo docker tag image_name:tag docker_hub_username/image_name:tag`\n",
    "\n",
    "##### Log into Docker Hub IF necessary\n",
    "`sudo docker login`\n",
    "\n",
    "##### Push the image up to Docker Hub\n",
    "`sudo docker push docker_hub_username/image_name:tag`\n",
    "\n",
    "##### Go to the server that needs the image and pull the image down to it from Docker Hub\n",
    "`sudo docker pull docker_hub_username/image_name:tag`\n",
    "\n",
    "##### Run the image with the necessary flags\n",
    "`sudo docker container run --name container_name --restart unless-stopped -p 5001:80 -v /home/tives@hq.echogl.net/elf/ai_data:/usr/share/nginx/html -d docker_hub_username/image_name:tag`\n",
    "\n",
    "##### Stop the container and remove it when you need to rerun a new image\n",
    "`sudo docker container stop container_name`\n",
    "`sudo docker container rm container_name`\n",
    "\n",
    "##### Rarely used\n",
    "`sudo docker container restart container_name`"
   ]
  },
  {
   "cell_type": "markdown",
   "metadata": {},
   "source": [
    "## POWER Docker Commands"
   ]
  },
  {
   "cell_type": "markdown",
   "metadata": {},
   "source": [
    "[Docker Removal Commands](https://stackoverflow.com/a/45359452/996205)\n",
    "\n",
    "Modify these for your specific needs ...\n",
    "\n",
    "To STOP running containers: `sudo docker container stop $(sudo docker container ls -aq)`\n",
    "\n",
    "To STOP SOME containers: `for container_name in 'name1' 'name2' 'name3'; do sudo docker container stop $container_name; done`\n",
    "\n",
    "To remove ALL Stopped Docker Containers: `sudo docker container prune`\n",
    "\n",
    "To remove SOME Stopped Docker Containers: `for container_name in 'name1' 'name2' 'name3'; do sudo docker container rm $container_name; done`\n",
    "\n",
    "To remove ALL Docker Images: `sudo docker image rm -f $(sudo docker images -aq)`\n",
    "\n",
    "To Remove ALL Unused Docker Images: `sudo docker image prune`\n",
    "\n",
    "To Pull Multiple Images at one time: `for image in docker_hub_username/name1_i:latest docker_hub_username/name2_i:latest docker_hub_username/name3_i:latest docker_hub_username/name4_i:latest docker_hub_username/name5_i:latest docker_hub_username/name6_i:latest; do sudo docker pull $image; done`\n",
    "\n",
    "`for image in docker_hub_username/name1_i:latest docker_hub_username/name2_i:latest docker_hub_username/name3_i:latest; do sudo docker pull $image; done`\n",
    "\n",
    "To Run Multiple Containers at one time: `for run_cmd in '--name name1 --restart always -p 8000:8000 -d docker_hub_username/name1_i' '--name file_io --restart always -p 8001:8001 -d docker_hub_username/name2_i' '--name name3 --restart always -p 8002:8002 -v /host/dir:/container/dir -d docker_hub_username/name3_i' '--name name4 --restart always -p 8003:8003 -d docker_hub_username/name4_i' '--name name5 --restart always -p 5001:80 -v /host/dir:/container/dir -d docker_hub_username/name5_i' '--name name6 --restart always -p 5000:80 -d docker_hub_username/name6_i'; do sudo docker container run $run_cmd; done`\n",
    "\n",
    "`for run_cmd in '--name name1 --restart always -p 8000:8000 -d docker_hub_username/name1' '--name name2 --restart always -p 8001:8001 -d docker_hub_username/name2_i' '--name name3 --restart always -p 8002:8002 -v /host/dir:/container/dir -d docker_hub_username/name3_i'; do sudo docker container run $run_cmd; done`\n",
    "\n",
    "`for run_cmd in '--name name4 --restart always -p 8002:8002 -v /host/dir:/container/dir -d docker_hub_username/name4_i' '--name name5 --restart unless-stopped -p 5001:80 -v /host/dir:/container/dir -d docker_hub_username/name5_i'; do sudo docker container run $run_cmd; done`\n",
    "\n",
    "Other STRONG commands are:\n",
    "    * `sudo docker volume prune`\n",
    "    * `sudo docker network prune`\n",
    "    * `sudo docker system prune`"
   ]
  }
 ],
 "metadata": {
  "language_info": {
   "name": "python"
  },
  "orig_nbformat": 4
 },
 "nbformat": 4,
 "nbformat_minor": 2
}
